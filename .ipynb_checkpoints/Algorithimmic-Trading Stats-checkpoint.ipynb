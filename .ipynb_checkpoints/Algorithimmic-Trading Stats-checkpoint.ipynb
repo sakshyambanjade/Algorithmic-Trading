{
 "cells": [
  {
   "cell_type": "markdown",
   "id": "468d1677-ea02-4589-aef7-3bc25321ffe1",
   "metadata": {},
   "source": [
    "# 1. Downloading SP500 Stocks Price Data!"
   ]
  },
  {
   "cell_type": "markdown",
   "id": "1eca0143-7bc0-466a-9958-4207489eb937",
   "metadata": {},
   "source": [
    "from statsmodels.regression.rolling import RollingOLS\n",
    "import pandas_datareader.data as web\n",
    "import matplotlib.pyplot as plt \n",
    "import statsmodels.api as sm\n",
    "import pandas as pd\n",
    "import numpy as np\n",
    "import datetime as dt\n",
    "import yfinance as yf\n",
    "import pandas_ta\n",
    "import warnings\n",
    "warnings.filterwarnings('ignore')\n",
    "\n"
   ]
  },
  {
   "cell_type": "code",
   "execution_count": null,
   "id": "8fd07d98-5e2b-4a75-a3c3-6273d3a2e645",
   "metadata": {},
   "outputs": [],
   "source": []
  }
 ],
 "metadata": {
  "kernelspec": {
   "display_name": "Python 3 (ipykernel)",
   "language": "python",
   "name": "python3"
  },
  "language_info": {
   "codemirror_mode": {
    "name": "ipython",
    "version": 3
   },
   "file_extension": ".py",
   "mimetype": "text/x-python",
   "name": "python",
   "nbconvert_exporter": "python",
   "pygments_lexer": "ipython3",
   "version": "3.12.4"
  }
 },
 "nbformat": 4,
 "nbformat_minor": 5
}
